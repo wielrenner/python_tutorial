{
 "cells": [
  {
   "cell_type": "code",
   "execution_count": null,
   "metadata": {},
   "outputs": [],
   "source": [
    "import pandas as pd\n",
    "from sklearn.preprocessing import LabelEncoder, OneHotEncoder\n",
    "import numpy as np\n",
    "import math\n",
    "import matplotlib.pyplot as plt\n",
    "import random"
   ]
  },
  {
   "cell_type": "code",
   "execution_count": null,
   "metadata": {},
   "outputs": [],
   "source": [
    "titanic_data = pd.read_csv('titanic.csv')"
   ]
  },
  {
   "cell_type": "code",
   "execution_count": null,
   "metadata": {},
   "outputs": [],
   "source": [
    "titanic_data.drop(['PassengerId', 'Ticket'], axis=1, inplace=True)"
   ]
  },
  {
   "cell_type": "code",
   "execution_count": null,
   "metadata": {},
   "outputs": [],
   "source": [
    "titanic_data.head()"
   ]
  },
  {
   "cell_type": "code",
   "execution_count": null,
   "metadata": {},
   "outputs": [],
   "source": [
    "print('Zero values in train name = ' + str(titanic_data['Name'].isnull().sum()))\n",
    "print('Zero values in train sex = ' + str(titanic_data['Sex'].isnull().sum()))\n",
    "print('Zero values in train cabin = ' + str(titanic_data['Cabin'].isnull().sum()))\n",
    "print('Zero values in train embarked = ' + str(titanic_data['Embarked'].isnull().sum()))"
   ]
  },
  {
   "cell_type": "code",
   "execution_count": null,
   "metadata": {},
   "outputs": [],
   "source": [
    "titanic_data.describe()"
   ]
  },
  {
   "cell_type": "markdown",
   "metadata": {},
   "source": [
    "# Extract title out of name"
   ]
  },
  {
   "cell_type": "code",
   "execution_count": null,
   "metadata": {},
   "outputs": [],
   "source": [
    "def extract_title(df):\n",
    "    \"\"\"\n",
    "    Extracts the title out of a name\n",
    "    \n",
    "    Arguments:\n",
    "        df {Pandas dataframe} -- should contain a Name column\n",
    "        \n",
    "    Returns:\n",
    "        df {Pandas dataframe} -- same dataframe except changed Name column content\n",
    "    \"\"\"\n",
    "    extraction = {'.*Mrs\\..*': 'Mrs',\n",
    "                  '.*Sir\\..*': 'Royalty',\n",
    "                  '.*Mr\\..*': 'Mr',\n",
    "                  '.*Capt\\..*': 'Officer',\n",
    "                  '.*Col\\..*': 'Officer',\n",
    "                  '.*Countess\\..*': 'Royalty',\n",
    "                  '.*Dona\\..*': 'Royalty',\n",
    "                  '.*Don\\..*': 'Royalty',\n",
    "                  '.*Dr\\..*': 'Officer',\n",
    "                  '.*Jonkheer.*': 'Royalty',\n",
    "                  '.*Lady\\..*': 'Royalty',\n",
    "                  '.*Major\\..*': 'Officer',\n",
    "                  '.*Master\\..*': 'Master',\n",
    "                  '.*Mlle\\..*': 'Miss',\n",
    "                  '.*Mme\\..*': 'Mrs',\n",
    "                  '.*Ms\\..*': 'Mrs',\n",
    "                  '.*Rev\\..*': 'Officer',\n",
    "                  '.*Miss\\..*': 'Miss'}\n",
    "    df['Name'] = df['Name'].replace(extraction, regex=True)\n",
    "    return df\n",
    "\n",
    "titanic_data = extract_title(titanic_data)"
   ]
  },
  {
   "cell_type": "markdown",
   "metadata": {},
   "source": [
    "# Fill in the small amount of missing values for fare"
   ]
  },
  {
   "cell_type": "code",
   "execution_count": null,
   "metadata": {},
   "outputs": [],
   "source": [
    "titanic_data['Fare'].fillna(titanic_data['Fare'].mean(), inplace=True)"
   ]
  },
  {
   "cell_type": "markdown",
   "metadata": {},
   "source": [
    "# Filling in missing values for age"
   ]
  },
  {
   "cell_type": "code",
   "execution_count": null,
   "metadata": {},
   "outputs": [],
   "source": [
    "def fillna_age(df):\n",
    "    \"\"\"\n",
    "    Will fill all missing values of the Age column \n",
    "    based on the median values of the Age\n",
    "    after a groupby on the Name, Pclass, and Sex\n",
    "    \n",
    "    Arguments:\n",
    "        df {Pandas dataframe} -- should contain a Age, Pclass, Name, and Sex column\n",
    "        \n",
    "    Returns:\n",
    "        df {Pandas dataframe} -- same dataframe except all missing values of the Age column are filled\n",
    "    \"\"\"\n",
    "    age_selection = df[['Age', 'Pclass', 'Name', 'Sex']].dropna()\n",
    "    grouped_age = age_selection.groupby(['Name','Pclass','Sex'])['Age'].median()\n",
    "    \n",
    "    df['Age'] = df.apply(lambda x: grouped_age.loc[(x['Name'], x['Pclass'], x['Sex'])] if not x['Age'] > 0 else x['Age'],\n",
    "                         axis=1)\n",
    "    return df\n",
    "\n",
    "titanic_data = fillna_age(titanic_data)"
   ]
  },
  {
   "cell_type": "markdown",
   "metadata": {},
   "source": [
    "# Extract cabin class out of cabin"
   ]
  },
  {
   "cell_type": "code",
   "execution_count": null,
   "metadata": {},
   "outputs": [],
   "source": [
    "for i in range(len(titanic_data)):\n",
    "    if type(titanic_data['Cabin'][i]) == str:\n",
    "        trimmed = titanic_data['Cabin'][i][:1]\n",
    "        titanic_data.loc[i,'Cabin'] = trimmed"
   ]
  },
  {
   "cell_type": "markdown",
   "metadata": {},
   "source": [
    "# Filling in missing values for cabin"
   ]
  },
  {
   "cell_type": "code",
   "execution_count": null,
   "metadata": {},
   "outputs": [],
   "source": [
    "cabin = titanic_data[['Cabin','SibSp','Parch','Age','Fare','Pclass']].dropna()\n",
    "cabin['Fare'] = cabin['Fare'].astype(int)\n",
    "grouped_cabin = cabin.groupby(['Cabin'])['Pclass'].mean()\n",
    "print(grouped_cabin)"
   ]
  },
  {
   "cell_type": "code",
   "execution_count": null,
   "metadata": {},
   "outputs": [],
   "source": [
    "# Can be improved\n",
    "classone = ['A', 'B', 'C', 'D', 'E', 'T']\n",
    "for i in range(len(titanic_data)):\n",
    "    if not type(titanic_data['Cabin'][i]) == str:\n",
    "        if titanic_data.loc[i,'Pclass'] == 1:\n",
    "            titanic_data.loc[i,'Cabin'] = random.choice(classone)\n",
    "        elif titanic_data.loc[i,'Pclass'] == 2:\n",
    "            titanic_data.loc[i,'Cabin'] = 'F'\n",
    "        elif titanic_data.loc[i,'Pclass'] == 3:\n",
    "            titanic_data.loc[i,'Cabin'] = 'G'"
   ]
  },
  {
   "cell_type": "markdown",
   "metadata": {},
   "source": [
    "# Visualizations"
   ]
  },
  {
   "cell_type": "code",
   "execution_count": null,
   "metadata": {},
   "outputs": [],
   "source": [
    "titanic_data.columns"
   ]
  },
  {
   "cell_type": "code",
   "execution_count": null,
   "metadata": {},
   "outputs": [],
   "source": [
    "import seaborn as sns\n",
    "\n",
    "sns.barplot(y=titanic_data['Survived'], x=titanic_data['Pclass'])"
   ]
  },
  {
   "cell_type": "code",
   "execution_count": null,
   "metadata": {},
   "outputs": [],
   "source": [
    "sns.barplot(y=titanic_data['Survived'], x=titanic_data['Name'])"
   ]
  },
  {
   "cell_type": "code",
   "execution_count": null,
   "metadata": {},
   "outputs": [],
   "source": [
    "sns.barplot(y=titanic_data['Survived'], x=titanic_data['Sex'])"
   ]
  },
  {
   "cell_type": "code",
   "execution_count": null,
   "metadata": {},
   "outputs": [],
   "source": [
    "sns.barplot(x=titanic_data['Survived'], y=titanic_data['Age'])"
   ]
  },
  {
   "cell_type": "code",
   "execution_count": null,
   "metadata": {},
   "outputs": [],
   "source": [
    "sns.barplot(x=titanic_data['Survived'], y=titanic_data['Fare'])"
   ]
  },
  {
   "cell_type": "code",
   "execution_count": null,
   "metadata": {},
   "outputs": [],
   "source": [
    "sns.barplot(x=titanic_data['Survived'], y=titanic_data['Cabin'])"
   ]
  },
  {
   "cell_type": "code",
   "execution_count": null,
   "metadata": {},
   "outputs": [],
   "source": [
    "sns.barplot(x=titanic_data['Survived'], y=titanic_data['Embarked'])"
   ]
  },
  {
   "cell_type": "code",
   "execution_count": null,
   "metadata": {},
   "outputs": [],
   "source": [
    "sns.barplot(y=titanic_data['Survived'], x=titanic_data['SibSp'])"
   ]
  },
  {
   "cell_type": "code",
   "execution_count": null,
   "metadata": {},
   "outputs": [],
   "source": [
    "sns.barplot(y=titanic_data['Survived'], x=titanic_data['Parch'])"
   ]
  },
  {
   "cell_type": "markdown",
   "metadata": {},
   "source": [
    "# SibSp + Parch into familysize"
   ]
  },
  {
   "cell_type": "code",
   "execution_count": null,
   "metadata": {},
   "outputs": [],
   "source": [
    "titanic_data['FamilySize'] = titanic_data['SibSp'] + titanic_data['Parch'] + 1\n",
    "titanic_data.drop(['SibSp'], axis=1, inplace=True)\n",
    "titanic_data.drop(['Parch'], axis=1, inplace=True)"
   ]
  },
  {
   "cell_type": "code",
   "execution_count": null,
   "metadata": {},
   "outputs": [],
   "source": [
    "sns.barplot(y=titanic_data['Survived'], x=titanic_data['FamilySize'])"
   ]
  },
  {
   "cell_type": "markdown",
   "metadata": {},
   "source": [
    "# Combine FamilySize 8 + 11 because both have 0 change of surviving"
   ]
  },
  {
   "cell_type": "code",
   "execution_count": null,
   "metadata": {},
   "outputs": [],
   "source": [
    "for i in range(len(titanic_data)):\n",
    "    if titanic_data.loc[i,'FamilySize'] == 11:\n",
    "        titanic_data.loc[i,'FamilySize'] = 8"
   ]
  },
  {
   "cell_type": "code",
   "execution_count": null,
   "metadata": {},
   "outputs": [],
   "source": []
  }
 ],
 "metadata": {
  "kernelspec": {
   "display_name": "python-tutorial",
   "language": "python",
   "name": "python-tutorial"
  },
  "language_info": {
   "codemirror_mode": {
    "name": "ipython",
    "version": 3
   },
   "file_extension": ".py",
   "mimetype": "text/x-python",
   "name": "python",
   "nbconvert_exporter": "python",
   "pygments_lexer": "ipython3",
   "version": "3.6.8"
  }
 },
 "nbformat": 4,
 "nbformat_minor": 2
}
