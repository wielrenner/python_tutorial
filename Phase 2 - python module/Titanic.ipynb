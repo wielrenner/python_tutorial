{
 "cells": [
  {
   "cell_type": "code",
   "execution_count": null,
   "metadata": {},
   "outputs": [],
   "source": [
    "import pandas as pd\n",
    "from sklearn.preprocessing import LabelEncoder, OneHotEncoder\n",
    "import numpy as np\n",
    "import math\n",
    "import matplotlib.pyplot as plt\n",
    "import random"
   ]
  },
  {
   "cell_type": "code",
   "execution_count": null,
   "metadata": {},
   "outputs": [],
   "source": [
    "train = pd.read_csv('train.csv')\n",
    "test = pd.read_csv('test.csv')"
   ]
  },
  {
   "cell_type": "code",
   "execution_count": null,
   "metadata": {},
   "outputs": [],
   "source": [
    "train.drop(['PassengerId', 'Ticket'], axis=1, inplace=True)\n",
    "test.drop(['PassengerId', 'Ticket'], axis=1, inplace=True)"
   ]
  },
  {
   "cell_type": "code",
   "execution_count": null,
   "metadata": {},
   "outputs": [],
   "source": [
    "train.head()"
   ]
  },
  {
   "cell_type": "code",
   "execution_count": null,
   "metadata": {},
   "outputs": [],
   "source": [
    "print('Zero values in train name = ' + str(train['Name'].isnull().sum()))\n",
    "print('Zero values in train sex = ' + str(train['Sex'].isnull().sum()))\n",
    "print('Zero values in train cabin = ' + str(train['Cabin'].isnull().sum()))\n",
    "print('Zero values in train embarked = ' + str(train['Embarked'].isnull().sum()))"
   ]
  },
  {
   "cell_type": "code",
   "execution_count": null,
   "metadata": {},
   "outputs": [],
   "source": [
    "train.describe()"
   ]
  },
  {
   "cell_type": "code",
   "execution_count": null,
   "metadata": {},
   "outputs": [],
   "source": [
    "print('Zero values in test name = ' + str(test['Name'].isnull().sum()))\n",
    "print('Zero values in test sex = ' + str(test['Sex'].isnull().sum()))\n",
    "print('Zero values in test cabin = ' + str(test['Cabin'].isnull().sum()))\n",
    "print('Zero values in test embarked = ' + str(test['Embarked'].isnull().sum()))"
   ]
  },
  {
   "cell_type": "code",
   "execution_count": null,
   "metadata": {},
   "outputs": [],
   "source": [
    "test.describe()"
   ]
  },
  {
   "cell_type": "markdown",
   "metadata": {},
   "source": [
    "# Extract title out of name"
   ]
  },
  {
   "cell_type": "code",
   "execution_count": null,
   "metadata": {},
   "outputs": [],
   "source": [
    "for i in range(len(train)):\n",
    "    if 'Mrs.' in train['Name'][i]:\n",
    "        train.loc[i,'Name'] = 'Mrs'\n",
    "    elif 'Sir.' in train['Name'][i]:\n",
    "        train.loc[i,'Name'] = 'Royalty'\n",
    "    elif 'Mr.' in train['Name'][i]:\n",
    "        train.loc[i,'Name'] = 'Mr'\n",
    "    elif 'Capt.' in train['Name'][i]:\n",
    "        train.loc[i,'Name'] = 'Officer'\n",
    "    elif 'Col.' in train['Name'][i]:\n",
    "        train.loc[i,'Name'] = 'Officer'\n",
    "    elif 'Countess.' in train['Name'][i]:\n",
    "        train.loc[i,'Name'] = 'Royalty'\n",
    "    elif 'Dona.' in train['Name'][i]:\n",
    "        train.loc[i,'Name'] = 'Royalty'\n",
    "    elif 'Don.' in train['Name'][i]:\n",
    "        train.loc[i,'Name'] = 'Royalty'\n",
    "    elif 'Dr.' in train['Name'][i]:\n",
    "        train.loc[i,'Name'] = 'Officer'\n",
    "    elif 'Jonkheer.' in train['Name'][i]:\n",
    "        train.loc[i,'Name'] = 'Royalty'\n",
    "    elif 'Lady.' in train['Name'][i]:\n",
    "        train.loc[i,'Name'] = 'Royalty'\n",
    "    elif 'Major.' in train['Name'][i]:\n",
    "        train.loc[i,'Name'] = 'Officer'\n",
    "    elif 'Master.' in train['Name'][i]:\n",
    "        train.loc[i,'Name'] = 'Master'\n",
    "    elif 'Mlle.' in train['Name'][i]:\n",
    "        train.loc[i,'Name'] = 'Miss'\n",
    "    elif 'Mme.' in train['Name'][i]:\n",
    "        train.loc[i,'Name'] = 'Mrs'\n",
    "    elif 'Ms.' in train['Name'][i]:\n",
    "        train.loc[i,'Name'] = 'Mrs'\n",
    "    elif 'Rev.' in train['Name'][i]:\n",
    "        train.loc[i,'Name'] = 'Officer'\n",
    "    elif 'Miss.' in train['Name'][i]:\n",
    "        train.loc[i,'Name'] = 'Miss'"
   ]
  },
  {
   "cell_type": "code",
   "execution_count": null,
   "metadata": {},
   "outputs": [],
   "source": [
    "for i in range(len(test)):\n",
    "    if 'Mrs.' in test['Name'][i]:\n",
    "        test.loc[i,'Name'] = 'Mrs'\n",
    "    elif 'Sir.' in test['Name'][i]:\n",
    "        test.loc[i,'Name'] = 'Royalty'\n",
    "    elif 'Mr.' in test['Name'][i]:\n",
    "        test.loc[i,'Name'] = 'Mr'\n",
    "    elif 'Capt.' in test['Name'][i]:\n",
    "        test.loc[i,'Name'] = 'Officer'\n",
    "    elif 'Col.' in test['Name'][i]:\n",
    "        test.loc[i,'Name'] = 'Officer'\n",
    "    elif 'Countess.' in test['Name'][i]:\n",
    "        test.loc[i,'Name'] = 'Royalty'\n",
    "    elif 'Dona.' in test['Name'][i]:\n",
    "        test.loc[i,'Name'] = 'Royalty'\n",
    "    elif 'Don.' in test['Name'][i]:\n",
    "        test.loc[i,'Name'] = 'Royalty'\n",
    "    elif 'Dr.' in test['Name'][i]:\n",
    "        test.loc[i,'Name'] = 'Officer'\n",
    "    elif 'Jonkheer.' in test['Name'][i]:\n",
    "        test.loc[i,'Name'] = 'Royalty'\n",
    "    elif 'Lady.' in test['Name'][i]:\n",
    "        test.loc[i,'Name'] = 'Royalty'\n",
    "    elif 'Major.' in test['Name'][i]:\n",
    "        test.loc[i,'Name'] = 'Officer'\n",
    "    elif 'Master.' in test['Name'][i]:\n",
    "        test.loc[i,'Name'] = 'Master'\n",
    "    elif 'Mlle.' in test['Name'][i]:\n",
    "        test.loc[i,'Name'] = 'Miss'\n",
    "    elif 'Mme.' in test['Name'][i]:\n",
    "        test.loc[i,'Name'] = 'Mrs'\n",
    "    elif 'Ms.' in test['Name'][i]:\n",
    "        test.loc[i,'Name'] = 'Mrs'\n",
    "    elif 'Rev.' in test['Name'][i]:\n",
    "        test.loc[i,'Name'] = 'Officer'\n",
    "    elif 'Miss.' in test['Name'][i]:\n",
    "        test.loc[i,'Name'] = 'Miss'"
   ]
  },
  {
   "cell_type": "markdown",
   "metadata": {},
   "source": [
    "# Fill in the small amount of missing values for test fare and train embarked"
   ]
  },
  {
   "cell_type": "code",
   "execution_count": null,
   "metadata": {},
   "outputs": [],
   "source": [
    "test['Fare'].fillna(test['Fare'].mean(), inplace=True)\n",
    "train['Embarked'].fillna(train['Embarked'].value_counts().index[0], inplace=True)"
   ]
  },
  {
   "cell_type": "markdown",
   "metadata": {},
   "source": [
    "# Filling in missing values for age"
   ]
  },
  {
   "cell_type": "code",
   "execution_count": null,
   "metadata": {},
   "outputs": [],
   "source": [
    "train.columns"
   ]
  },
  {
   "cell_type": "code",
   "execution_count": null,
   "metadata": {},
   "outputs": [],
   "source": [
    "age_selection_train = train[['Age', 'SibSp', 'Parch', 'Fare', 'Pclass', 'Name', 'Sex']].dropna()\n",
    "age_selection_test = test[['Age', 'SibSp', 'Parch', 'Fare', 'Pclass', 'Name', 'Sex']].dropna()\n",
    "age_selection = age_selection_train.append(age_selection_test)\n",
    "age_selection['Fare'] = age_selection['Fare'].astype(int)\n",
    "grouped_age = age_selection.groupby(['Name','Pclass','Sex'])['Age'].median()\n",
    "print(grouped_age)"
   ]
  },
  {
   "cell_type": "code",
   "execution_count": null,
   "metadata": {},
   "outputs": [],
   "source": [
    "for i in range(len(train)):\n",
    "    if not train['Age'][i] > 0:\n",
    "        if train.loc[i,'Name'] == 'Master':\n",
    "            if train.loc[i,'Pclass'] == 1:\n",
    "                train.loc[i,'Age'] = 6\n",
    "            elif train.loc[i,'Pclass'] == 2:\n",
    "                train.loc[i,'Age'] = 2\n",
    "            elif train.loc[i,'Pclass'] == 3:\n",
    "                train.loc[i,'Age'] = 6\n",
    "        elif train.loc[i,'Name'] == 'Miss':\n",
    "            if train.loc[i,'Pclass'] == 1:\n",
    "                train.loc[i,'Age'] = 30\n",
    "            elif train.loc[i,'Pclass'] == 2:\n",
    "                train.loc[i,'Age'] = 21\n",
    "            elif train.loc[i,'Pclass'] == 3:\n",
    "                train.loc[i,'Age'] = 19\n",
    "        elif train.loc[i,'Name'] == 'Mr':\n",
    "            if train.loc[i,'Pclass'] == 1:\n",
    "                train.loc[i,'Age'] = 40\n",
    "            elif train.loc[i,'Pclass'] == 2:\n",
    "                train.loc[i,'Age'] = 31\n",
    "            elif train.loc[i,'Pclass'] == 3:\n",
    "                train.loc[i,'Age'] = 29\n",
    "        elif train.loc[i,'Name'] == 'Mrs':\n",
    "            if train.loc[i,'Pclass'] == 1:\n",
    "                train.loc[i,'Age'] = 43\n",
    "            elif train.loc[i,'Pclass'] == 2:\n",
    "                train.loc[i,'Age'] = 31\n",
    "            elif train.loc[i,'Pclass'] == 3:\n",
    "                train.loc[i,'Age'] = 34\n",
    "        elif train.loc[i,'Name'] == 'Officer':\n",
    "            if train.loc[i,'Pclass'] == 1:\n",
    "                if train.loc[i,'Sex'] == 'female':\n",
    "                    train.loc[i,'Age'] = 49\n",
    "                elif train.loc[i,'Sex'] == 'male':\n",
    "                    train.loc[i,'Age'] = 52\n",
    "            elif train.loc[i,'Pclass'] == 2:\n",
    "                train.loc[i,'Age'] = 42\n",
    "        elif train.loc[i,'Name'] == 'Royalty':\n",
    "            if train.loc[i,'Pclass'] == 1:\n",
    "                if train.loc[i,'Sex'] == 'female':\n",
    "                    train.loc[i,'Age'] = 39\n",
    "                elif train.loc[i,'Sex'] == 'male':\n",
    "                    train.loc[i,'Age'] = 40\n",
    "for i in range(len(test)):\n",
    "    if not test['Age'][i] > 0:\n",
    "        if test.loc[i,'Name'] == 'Master':\n",
    "            if test.loc[i,'Pclass'] == 1:\n",
    "                test.loc[i,'Age'] = 6\n",
    "            elif test.loc[i,'Pclass'] == 2:\n",
    "                test.loc[i,'Age'] = 2\n",
    "            elif test.loc[i,'Pclass'] == 3:\n",
    "                test.loc[i,'Age'] = 6\n",
    "        elif test.loc[i,'Name'] == 'Miss':\n",
    "            if test.loc[i,'Pclass'] == 1:\n",
    "                test.loc[i,'Age'] = 30\n",
    "            elif test.loc[i,'Pclass'] == 2:\n",
    "                test.loc[i,'Age'] = 21\n",
    "            elif test.loc[i,'Pclass'] == 3:\n",
    "                test.loc[i,'Age'] = 19\n",
    "        elif test.loc[i,'Name'] == 'Mr':\n",
    "            if test.loc[i,'Pclass'] == 1:\n",
    "                test.loc[i,'Age'] = 40\n",
    "            elif test.loc[i,'Pclass'] == 2:\n",
    "                test.loc[i,'Age'] = 31\n",
    "            elif test.loc[i,'Pclass'] == 3:\n",
    "                test.loc[i,'Age'] = 29\n",
    "        elif test.loc[i,'Name'] == 'Mrs':\n",
    "            if test.loc[i,'Pclass'] == 1:\n",
    "                test.loc[i,'Age'] = 43\n",
    "            elif test.loc[i,'Pclass'] == 2:\n",
    "                test.loc[i,'Age'] = 31\n",
    "            elif test.loc[i,'Pclass'] == 3:\n",
    "                test.loc[i,'Age'] = 34\n",
    "        elif test.loc[i,'Name'] == 'Officer':\n",
    "            if test.loc[i,'Pclass'] == 1:\n",
    "                if test.loc[i,'Sex'] == 'female':\n",
    "                    test.loc[i,'Age'] = 49\n",
    "                elif test.loc[i,'Sex'] == 'male':\n",
    "                    test.loc[i,'Age'] = 52\n",
    "            elif test.loc[i,'Pclass'] == 2:\n",
    "                test.loc[i,'Age'] = 42\n",
    "        elif test.loc[i,'Name'] == 'Royalty':\n",
    "            if test.loc[i,'Pclass'] == 1:\n",
    "                if test.loc[i,'Sex'] == 'female':\n",
    "                    test.loc[i,'Age'] = 39\n",
    "                elif test.loc[i,'Sex'] == 'male':\n",
    "                    test.loc[i,'Age'] = 40"
   ]
  },
  {
   "cell_type": "markdown",
   "metadata": {},
   "source": [
    "# Extract cabin class out of cabin"
   ]
  },
  {
   "cell_type": "code",
   "execution_count": null,
   "metadata": {},
   "outputs": [],
   "source": [
    "for i in range(len(train)):\n",
    "    if type(train['Cabin'][i]) == str:\n",
    "        trimmed = train['Cabin'][i][:1]\n",
    "        train.loc[i,'Cabin'] = trimmed\n",
    "for i in range(len(test)):\n",
    "    if type(test['Cabin'][i]) == str:\n",
    "        trimmed = test['Cabin'][i][:1]\n",
    "        test.loc[i,'Cabin'] = trimmed"
   ]
  },
  {
   "cell_type": "markdown",
   "metadata": {},
   "source": [
    "# Filling in missing values for cabin"
   ]
  },
  {
   "cell_type": "code",
   "execution_count": null,
   "metadata": {},
   "outputs": [],
   "source": [
    "traincabin = train[['Cabin','SibSp','Parch','Age','Fare','Pclass']].dropna()\n",
    "testcabin = test[['Cabin','SibSp','Parch','Age','Fare','Pclass']].dropna()\n",
    "allcabin = traincabin.append(testcabin)\n",
    "allcabin['Fare'] = allcabin['Fare'].astype(int)\n",
    "grouped_cabin = allcabin.groupby(['Cabin'])['Pclass'].mean()\n",
    "print(grouped_cabin)"
   ]
  },
  {
   "cell_type": "code",
   "execution_count": null,
   "metadata": {},
   "outputs": [],
   "source": [
    "# Can be improved\n",
    "classone = ['A', 'B', 'C', 'D', 'E', 'T']\n",
    "for i in range(len(train)):\n",
    "    if not type(train['Cabin'][i]) == str:\n",
    "        if train.loc[i,'Pclass'] == 1:\n",
    "            train.loc[i,'Cabin'] = random.choice(classone)\n",
    "        elif train.loc[i,'Pclass'] == 2:\n",
    "            train.loc[i,'Cabin'] = 'F'\n",
    "        elif train.loc[i,'Pclass'] == 3:\n",
    "            train.loc[i,'Cabin'] = 'G'\n",
    "for i in range(len(test)):\n",
    "    if not type(test['Cabin'][i]) == str:\n",
    "        if test.loc[i,'Pclass'] == 1:\n",
    "            test.loc[i,'Cabin'] = random.choice(classone)\n",
    "        elif test.loc[i,'Pclass'] == 2:\n",
    "            test.loc[i,'Cabin'] = 'F'\n",
    "        elif test.loc[i,'Pclass'] == 3:\n",
    "            test.loc[i,'Cabin'] = 'G'"
   ]
  },
  {
   "cell_type": "markdown",
   "metadata": {},
   "source": [
    "# Visualizations"
   ]
  },
  {
   "cell_type": "code",
   "execution_count": null,
   "metadata": {},
   "outputs": [],
   "source": [
    "train.columns"
   ]
  },
  {
   "cell_type": "code",
   "execution_count": null,
   "metadata": {},
   "outputs": [],
   "source": [
    "import seaborn as sns\n",
    "\n",
    "sns.barplot(y=train['Survived'], x=train['Pclass'])"
   ]
  },
  {
   "cell_type": "code",
   "execution_count": null,
   "metadata": {},
   "outputs": [],
   "source": [
    "sns.barplot(y=train['Survived'], x=train['Name'])"
   ]
  },
  {
   "cell_type": "code",
   "execution_count": null,
   "metadata": {},
   "outputs": [],
   "source": [
    "sns.barplot(y=train['Survived'], x=train['Sex'])"
   ]
  },
  {
   "cell_type": "code",
   "execution_count": null,
   "metadata": {},
   "outputs": [],
   "source": [
    "sns.barplot(x=train['Survived'], y=train['Age'])"
   ]
  },
  {
   "cell_type": "code",
   "execution_count": null,
   "metadata": {},
   "outputs": [],
   "source": [
    "sns.barplot(x=train['Survived'], y=train['Fare'])"
   ]
  },
  {
   "cell_type": "code",
   "execution_count": null,
   "metadata": {},
   "outputs": [],
   "source": [
    "sns.barplot(x=train['Survived'], y=train['Cabin'])"
   ]
  },
  {
   "cell_type": "code",
   "execution_count": null,
   "metadata": {},
   "outputs": [],
   "source": [
    "sns.barplot(x=train['Survived'], y=train['Embarked'])"
   ]
  },
  {
   "cell_type": "code",
   "execution_count": null,
   "metadata": {},
   "outputs": [],
   "source": [
    "sns.barplot(y=train['Survived'], x=train['SibSp'])"
   ]
  },
  {
   "cell_type": "code",
   "execution_count": null,
   "metadata": {},
   "outputs": [],
   "source": [
    "sns.barplot(y=train['Survived'], x=train['Parch'])"
   ]
  },
  {
   "cell_type": "markdown",
   "metadata": {},
   "source": [
    "# SibSp + Parch into familysize"
   ]
  },
  {
   "cell_type": "code",
   "execution_count": null,
   "metadata": {},
   "outputs": [],
   "source": [
    "train['FamilySize'] = train['SibSp'] + train['Parch'] + 1\n",
    "test['FamilySize'] = train['SibSp'] + train['Parch'] + 1\n",
    "train.drop(['SibSp'], axis=1, inplace=True)\n",
    "test.drop(['SibSp'], axis=1, inplace=True)\n",
    "train.drop(['Parch'], axis=1, inplace=True)\n",
    "test.drop(['Parch'], axis=1, inplace=True)"
   ]
  },
  {
   "cell_type": "code",
   "execution_count": null,
   "metadata": {},
   "outputs": [],
   "source": [
    "sns.barplot(y=train['Survived'], x=train['FamilySize'])"
   ]
  },
  {
   "cell_type": "markdown",
   "metadata": {},
   "source": [
    "# Combine FamilySize 8 + 11 because both have 0 change of surviving"
   ]
  },
  {
   "cell_type": "code",
   "execution_count": null,
   "metadata": {},
   "outputs": [],
   "source": [
    "for i in range(len(train)):\n",
    "    if train.loc[i,'FamilySize'] == 11:\n",
    "        train.loc[i,'FamilySize'] = 8\n",
    "for i in range(len(test)):\n",
    "    if test.loc[i,'FamilySize'] == 11:\n",
    "        test.loc[i,'FamilySize'] = 8"
   ]
  },
  {
   "cell_type": "markdown",
   "metadata": {},
   "source": [
    "# Hot encode titles"
   ]
  },
  {
   "cell_type": "code",
   "execution_count": null,
   "metadata": {},
   "outputs": [],
   "source": [
    "enc_onehot = OneHotEncoder(sparse=False)\n",
    "hot_encoded = enc_onehot.fit_transform(train['Name'].values.reshape(-1, 1))\n",
    "enc_onehot.get_feature_names()"
   ]
  },
  {
   "cell_type": "code",
   "execution_count": null,
   "metadata": {},
   "outputs": [],
   "source": [
    "train.drop(['Name'], axis=1, inplace=True)\n",
    "train['TitleMaster'] = hot_encoded[:,0]\n",
    "train['TitleMiss'] = hot_encoded[:,1]\n",
    "train['TitleMr'] = hot_encoded[:,2]\n",
    "train['TitleMrs'] = hot_encoded[:,3]\n",
    "train['TitleOfficer'] = hot_encoded[:,4]"
   ]
  },
  {
   "cell_type": "code",
   "execution_count": null,
   "metadata": {},
   "outputs": [],
   "source": [
    "hot_encoded = enc_onehot.fit_transform(test['Name'].values.reshape(-1, 1))\n",
    "enc_onehot.get_feature_names()"
   ]
  },
  {
   "cell_type": "code",
   "execution_count": null,
   "metadata": {},
   "outputs": [],
   "source": [
    "test.drop(['Name'], axis=1, inplace=True)\n",
    "test['TitleMaster'] = hot_encoded[:,0]\n",
    "test['TitleMiss'] = hot_encoded[:,1]\n",
    "test['TitleMr'] = hot_encoded[:,2]\n",
    "test['TitleMrs'] = hot_encoded[:,3]\n",
    "test['TitleOfficer'] = hot_encoded[:,4]"
   ]
  },
  {
   "cell_type": "markdown",
   "metadata": {},
   "source": [
    "# Hot encode class"
   ]
  },
  {
   "cell_type": "code",
   "execution_count": null,
   "metadata": {},
   "outputs": [],
   "source": [
    "hot_encoded = enc_onehot.fit_transform(train['Pclass'].values.reshape(-1, 1))\n",
    "enc_onehot.get_feature_names()"
   ]
  },
  {
   "cell_type": "code",
   "execution_count": null,
   "metadata": {},
   "outputs": [],
   "source": [
    "train.drop(['Pclass'], axis=1, inplace=True)\n",
    "train['Class1'] = hot_encoded[:,0]\n",
    "train['Class2'] = hot_encoded[:,1]\n",
    "train['Class3'] = hot_encoded[:,2]"
   ]
  },
  {
   "cell_type": "code",
   "execution_count": null,
   "metadata": {},
   "outputs": [],
   "source": [
    "hot_encoded = enc_onehot.fit_transform(test['Pclass'].values.reshape(-1, 1))\n",
    "enc_onehot.get_feature_names()"
   ]
  },
  {
   "cell_type": "code",
   "execution_count": null,
   "metadata": {},
   "outputs": [],
   "source": [
    "test.drop(['Pclass'], axis=1, inplace=True)\n",
    "test['Class1'] = hot_encoded[:,0]\n",
    "test['Class2'] = hot_encoded[:,1]\n",
    "test['Class3'] = hot_encoded[:,2]"
   ]
  },
  {
   "cell_type": "markdown",
   "metadata": {},
   "source": [
    "# Encode sex"
   ]
  },
  {
   "cell_type": "code",
   "execution_count": null,
   "metadata": {},
   "outputs": [],
   "source": [
    "enc_label = LabelEncoder()\n",
    "label_encoded = enc_label.fit_transform(train['Sex'])\n",
    "train['Sex'] = label_encoded"
   ]
  },
  {
   "cell_type": "code",
   "execution_count": null,
   "metadata": {},
   "outputs": [],
   "source": [
    "label_encoded = enc_label.fit_transform(test['Sex'])\n",
    "test['Sex'] = label_encoded"
   ]
  },
  {
   "cell_type": "markdown",
   "metadata": {},
   "source": [
    "# Hot encode family size"
   ]
  },
  {
   "cell_type": "code",
   "execution_count": null,
   "metadata": {},
   "outputs": [],
   "source": [
    "hot_encoded = enc_onehot.fit_transform(train['FamilySize'].values.reshape(-1, 1))\n",
    "enc_onehot.get_feature_names()"
   ]
  },
  {
   "cell_type": "code",
   "execution_count": null,
   "metadata": {},
   "outputs": [],
   "source": [
    "train.drop(['FamilySize'], axis=1, inplace=True)\n",
    "train['Family1'] = hot_encoded[:,0]\n",
    "train['Family2'] = hot_encoded[:,1]\n",
    "train['Family3'] = hot_encoded[:,2]\n",
    "train['Family4'] = hot_encoded[:,3]\n",
    "train['Family5'] = hot_encoded[:,4]\n",
    "train['Family6'] = hot_encoded[:,5]\n",
    "train['Family7'] = hot_encoded[:,6]\n",
    "train['Family8and11'] = hot_encoded[:,7]"
   ]
  },
  {
   "cell_type": "code",
   "execution_count": null,
   "metadata": {},
   "outputs": [],
   "source": [
    "hot_encoded = enc_onehot.fit_transform(test['FamilySize'].values.reshape(-1, 1))\n",
    "enc_onehot.get_feature_names()"
   ]
  },
  {
   "cell_type": "code",
   "execution_count": null,
   "metadata": {},
   "outputs": [],
   "source": [
    "test.drop(['FamilySize'], axis=1, inplace=True)\n",
    "test['Family1'] = hot_encoded[:,0]\n",
    "test['Family2'] = hot_encoded[:,1]\n",
    "test['Family3'] = hot_encoded[:,2]\n",
    "test['Family4'] = hot_encoded[:,3]\n",
    "test['Family5'] = hot_encoded[:,4]\n",
    "test['Family6'] = hot_encoded[:,5]\n",
    "test['Family7'] = hot_encoded[:,6]\n",
    "test['Family8and11'] = hot_encoded[:,7]"
   ]
  },
  {
   "cell_type": "markdown",
   "metadata": {},
   "source": [
    "# Hot encode embarked"
   ]
  },
  {
   "cell_type": "code",
   "execution_count": null,
   "metadata": {},
   "outputs": [],
   "source": [
    "hot_encoded = enc_onehot.fit_transform(train['Embarked'].values.reshape(-1, 1))\n",
    "enc_onehot.get_feature_names()"
   ]
  },
  {
   "cell_type": "code",
   "execution_count": null,
   "metadata": {},
   "outputs": [],
   "source": [
    "train.drop(['Embarked'], axis=1, inplace=True)\n",
    "train['EmbarkedC'] = hot_encoded[:,0]\n",
    "train['EmbarkedQ'] = hot_encoded[:,1]\n",
    "train['EmbarkedS'] = hot_encoded[:,2]"
   ]
  },
  {
   "cell_type": "code",
   "execution_count": null,
   "metadata": {},
   "outputs": [],
   "source": [
    "hot_encoded = enc_onehot.fit_transform(test['Embarked'].values.reshape(-1, 1))\n",
    "enc_onehot.get_feature_names()"
   ]
  },
  {
   "cell_type": "code",
   "execution_count": null,
   "metadata": {},
   "outputs": [],
   "source": [
    "test.drop(['Embarked'], axis=1, inplace=True)\n",
    "test['EmbarkedC'] = hot_encoded[:,0]\n",
    "test['EmbarkedQ'] = hot_encoded[:,1]\n",
    "test['EmbarkedS'] = hot_encoded[:,2]"
   ]
  },
  {
   "cell_type": "markdown",
   "metadata": {},
   "source": [
    "# Hot encode cabin"
   ]
  },
  {
   "cell_type": "code",
   "execution_count": null,
   "metadata": {},
   "outputs": [],
   "source": [
    "hot_encoded = enc_onehot.fit_transform(train['Cabin'].values.reshape(-1, 1))\n",
    "enc_onehot.get_feature_names()"
   ]
  },
  {
   "cell_type": "code",
   "execution_count": null,
   "metadata": {},
   "outputs": [],
   "source": [
    "train.drop(['Cabin'], axis=1, inplace=True)\n",
    "train['CabinA'] = hot_encoded[:,0]\n",
    "train['CabinB'] = hot_encoded[:,1]\n",
    "train['CabinC'] = hot_encoded[:,2]\n",
    "train['CabinD'] = hot_encoded[:,3]\n",
    "train['CabinE'] = hot_encoded[:,4]\n",
    "train['CabinF'] = hot_encoded[:,5]\n",
    "train['CabinG'] = hot_encoded[:,6]\n",
    "train['CabinT'] = hot_encoded[:,7]"
   ]
  },
  {
   "cell_type": "code",
   "execution_count": null,
   "metadata": {},
   "outputs": [],
   "source": [
    "hot_encoded = enc_onehot.fit_transform(test['Cabin'].values.reshape(-1, 1))\n",
    "enc_onehot.get_feature_names()"
   ]
  },
  {
   "cell_type": "code",
   "execution_count": null,
   "metadata": {},
   "outputs": [],
   "source": [
    "test.drop(['Cabin'], axis=1, inplace=True)\n",
    "test['CabinA'] = hot_encoded[:,0]\n",
    "test['CabinB'] = hot_encoded[:,1]\n",
    "test['CabinC'] = hot_encoded[:,2]\n",
    "test['CabinD'] = hot_encoded[:,3]\n",
    "test['CabinE'] = hot_encoded[:,4]\n",
    "test['CabinF'] = hot_encoded[:,5]\n",
    "test['CabinG'] = hot_encoded[:,6]\n",
    "test['CabinT'] = hot_encoded[:,7]"
   ]
  },
  {
   "cell_type": "markdown",
   "metadata": {},
   "source": [
    "# Model training"
   ]
  },
  {
   "cell_type": "code",
   "execution_count": null,
   "metadata": {},
   "outputs": [],
   "source": [
    "from sklearn.model_selection import train_test_split\n",
    "from sklearn.preprocessing import StandardScaler\n",
    "std_scale = StandardScaler()\n",
    "train[['Age', 'Fare']] = std_scale.fit_transform(train[['Age', 'Fare']])\n",
    "test[['Age', 'Fare']] = std_scale.transform(test[['Age', 'Fare']])\n",
    "x_train = train.drop(['Survived'], axis=1)\n",
    "y_train = train['Survived']\n",
    "\n",
    "x_train_train, x_valid, y_train_train, y_valid = train_test_split(x_train, y_train, test_size=0.2, random_state=42)"
   ]
  },
  {
   "cell_type": "code",
   "execution_count": null,
   "metadata": {},
   "outputs": [],
   "source": [
    "scores = {}"
   ]
  },
  {
   "cell_type": "code",
   "execution_count": null,
   "metadata": {},
   "outputs": [],
   "source": [
    "from sklearn.linear_model import LogisticRegressionCV\n",
    "from sklearn.metrics import f1_score\n",
    "\n",
    "print('LogisticRegressionCV running')\n",
    "clf = LogisticRegressionCV(cv=3, max_iter=500)\n",
    "clf.fit(x_train_train, y_train_train)\n",
    "valid_pred = clf.predict(x_valid)\n",
    "scores[clf] = f1_score(y_valid, valid_pred)"
   ]
  },
  {
   "cell_type": "code",
   "execution_count": null,
   "metadata": {},
   "outputs": [],
   "source": [
    "from sklearn.svm import SVC\n",
    "from sklearn.model_selection import GridSearchCV\n",
    "\n",
    "print('SVC running')\n",
    "svc = SVC(random_state=42)\n",
    "parameters = {'kernel':('linear', 'rbf'), \n",
    "              'C':[0.05,0.2,0.4,1,10,100,1000], \n",
    "              'gamma': [0.001,0.01,0.1,1.0]}\n",
    "clf = GridSearchCV(svc, parameters, cv=3)\n",
    "clf.fit(x_train_train, y_train_train)\n",
    "clf = SVC(**clf.best_params_)\n",
    "clf.fit(x_train_train, y_train_train)\n",
    "valid_pred = clf.predict(x_valid)\n",
    "scores[clf] = f1_score(y_valid, valid_pred)"
   ]
  },
  {
   "cell_type": "code",
   "execution_count": null,
   "metadata": {},
   "outputs": [],
   "source": [
    "from sklearn.linear_model import SGDClassifier\n",
    "\n",
    "print('SGDClassifier running')\n",
    "sgd = SGDClassifier(max_iter=1000, tol=1e-3, random_state=42)\n",
    "parameters = {'l1_ratio':np.arange(0, 1, 0.01).tolist()}\n",
    "clf = GridSearchCV(sgd, parameters, cv=3)\n",
    "clf.fit(x_train_train, y_train_train)\n",
    "clf = SGDClassifier(max_iter=1000, **clf.best_params_)\n",
    "clf.fit(x_train_train, y_train_train)\n",
    "valid_pred = clf.predict(x_valid)\n",
    "scores[clf] = f1_score(y_valid, valid_pred)"
   ]
  },
  {
   "cell_type": "code",
   "execution_count": null,
   "metadata": {},
   "outputs": [],
   "source": [
    "from sklearn.neighbors import KNeighborsClassifier\n",
    "\n",
    "print('KNeighborsClassifier running')\n",
    "knn = KNeighborsClassifier()\n",
    "parameters = {'n_neighbors':np.arange(1, 51, 1).tolist(), 'weights':('distance', 'uniform')}\n",
    "clf = GridSearchCV(knn, parameters, cv=3)\n",
    "clf.fit(x_train_train, y_train_train)\n",
    "clf = KNeighborsClassifier(**clf.best_params_)\n",
    "clf.fit(x_train_train, y_train_train)\n",
    "valid_pred = clf.predict(x_valid)\n",
    "scores[clf] = f1_score(y_valid, valid_pred)"
   ]
  },
  {
   "cell_type": "code",
   "execution_count": null,
   "metadata": {},
   "outputs": [],
   "source": [
    "from sklearn.gaussian_process import GaussianProcessClassifier\n",
    "\n",
    "print('GaussianProcessClassifier running')\n",
    "clf = GaussianProcessClassifier()\n",
    "clf.fit(x_train_train, y_train_train)\n",
    "valid_pred = clf.predict(x_valid)\n",
    "scores[clf] = f1_score(y_valid, valid_pred)"
   ]
  },
  {
   "cell_type": "code",
   "execution_count": null,
   "metadata": {},
   "outputs": [],
   "source": [
    "from sklearn.tree import DecisionTreeClassifier\n",
    "\n",
    "print('DecisionTreeClassifier running')\n",
    "dtc = DecisionTreeClassifier(random_state=42)\n",
    "parameters = {'criterion':('entropy', 'gini'), 'splitter':('best', 'random')}\n",
    "clf = GridSearchCV(dtc, parameters, cv=3)\n",
    "clf.fit(x_train_train, y_train_train)\n",
    "clf = DecisionTreeClassifier(**clf.best_params_)\n",
    "clf.fit(x_train_train, y_train_train)\n",
    "valid_pred = clf.predict(x_valid)\n",
    "scores[clf] = f1_score(y_valid, valid_pred)"
   ]
  },
  {
   "cell_type": "code",
   "execution_count": null,
   "metadata": {},
   "outputs": [],
   "source": [
    "from sklearn.ensemble import RandomForestClassifier\n",
    "\n",
    "print('RandomForestClassifier running')\n",
    "rfc = RandomForestClassifier(random_state=42)\n",
    "rf_param_grid = {'max_depth': [4, 6, 8],\n",
    "                 'max_features': ['sqrt', 'auto', 'log2'],\n",
    "                 'min_samples_split': [1.0, 3, 10],\n",
    "                 'min_samples_leaf': [1, 3, 10],\n",
    "                 'bootstrap': [True, False],\n",
    "                 'n_estimators': [10, 50],\n",
    "                 'criterion': ['gini']}\n",
    "clf = GridSearchCV(rfc, rf_param_grid, cv=3)\n",
    "clf.fit(x_train_train, y_train_train)\n",
    "clf = RandomForestClassifier(**clf.best_params_)\n",
    "clf.fit(x_train_train, y_train_train)\n",
    "valid_pred = clf.predict(x_valid)\n",
    "scores[clf] = f1_score(y_valid, valid_pred)"
   ]
  },
  {
   "cell_type": "code",
   "execution_count": null,
   "metadata": {},
   "outputs": [],
   "source": [
    "from sklearn.ensemble import AdaBoostClassifier\n",
    "\n",
    "print('AdaBoostClassifier running')\n",
    "DTC = DecisionTreeClassifier()\n",
    "clf=AdaBoostClassifier(DTC,random_state=42)\n",
    "ada_param_grid = {'algorithm': ['SAMME', 'SAMME.R'],\n",
    "                  'n_estimators': [1,2],\n",
    "                  'learning_rate': [0.0001, 0.001, 0.01, 0.1, 0.2, 0.3,1.5]}\n",
    "clf = GridSearchCV(clf, ada_param_grid, cv=3)\n",
    "clf.fit(x_train_train, y_train_train)\n",
    "clf = AdaBoostClassifier(**clf.best_params_)\n",
    "clf.fit(x_train_train, y_train_train)\n",
    "valid_pred = clf.predict(x_valid)\n",
    "scores[clf] = f1_score(y_valid, valid_pred)"
   ]
  },
  {
   "cell_type": "code",
   "execution_count": null,
   "metadata": {},
   "outputs": [],
   "source": [
    "from sklearn.ensemble import GradientBoostingClassifier\n",
    "\n",
    "print('GradientBoostingClassifier running')\n",
    "clf=GradientBoostingClassifier(random_state=42)\n",
    "gb_param_grid = {'loss': ['deviance'],\n",
    "                 'n_estimators': [100,200,300],\n",
    "                 'learning_rate': [0.1, 0.05, 0.01],\n",
    "                 'max_depth': [4, 8],\n",
    "                 'min_samples_leaf': [100,150],\n",
    "                 'max_features': [0.3, 0.1]}\n",
    "clf = GridSearchCV(clf, gb_param_grid, cv=3)\n",
    "clf.fit(x_train_train, y_train_train)\n",
    "clf = GradientBoostingClassifier(**clf.best_params_)\n",
    "clf.fit(x_train_train, y_train_train)\n",
    "valid_pred = clf.predict(x_valid)\n",
    "scores[clf] = f1_score(y_valid, valid_pred)"
   ]
  },
  {
   "cell_type": "code",
   "execution_count": null,
   "metadata": {},
   "outputs": [],
   "source": [
    "print(scores.values())"
   ]
  },
  {
   "cell_type": "code",
   "execution_count": null,
   "metadata": {},
   "outputs": [],
   "source": []
  }
 ],
 "metadata": {
  "kernelspec": {
   "display_name": "Python 3",
   "language": "python",
   "name": "python3"
  },
  "language_info": {
   "codemirror_mode": {
    "name": "ipython",
    "version": 3
   },
   "file_extension": ".py",
   "mimetype": "text/x-python",
   "name": "python",
   "nbconvert_exporter": "python",
   "pygments_lexer": "ipython3",
   "version": "3.6.8"
  }
 },
 "nbformat": 4,
 "nbformat_minor": 2
}
