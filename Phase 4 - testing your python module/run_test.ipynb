{
 "cells": [
  {
   "cell_type": "code",
   "execution_count": 7,
   "metadata": {},
   "outputs": [
    {
     "name": "stdout",
     "output_type": "stream",
     "text": [
      "============================= test session starts =============================\n",
      "platform win32 -- Python 3.7.5, pytest-5.3.1, py-1.8.0, pluggy-0.13.1\n",
      "rootdir: C:\\Users\\wroosmal\\Documents\\git\\python_tutorial\\Phase 4 - testing your python module\n",
      "plugins: cov-2.8.1\n",
      "collected 1 item\n",
      "\n",
      "test\\titanic_analysis_test.py .                                          [100%]\n",
      "\n",
      "============================== 1 passed in 1.11s ==============================\n"
     ]
    }
   ],
   "source": [
    "!python -m pytest"
   ]
  }
 ],
 "metadata": {
  "kernelspec": {
   "display_name": "Python 3",
   "language": "python",
   "name": "python3"
  },
  "language_info": {
   "codemirror_mode": {
    "name": "ipython",
    "version": 3
   },
   "file_extension": ".py",
   "mimetype": "text/x-python",
   "name": "python",
   "nbconvert_exporter": "python",
   "pygments_lexer": "ipython3",
   "version": "3.7.5"
  }
 },
 "nbformat": 4,
 "nbformat_minor": 2
}
