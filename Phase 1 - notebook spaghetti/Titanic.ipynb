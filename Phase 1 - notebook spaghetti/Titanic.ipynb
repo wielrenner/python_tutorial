{
 "cells": [
  {
   "cell_type": "code",
   "execution_count": null,
   "metadata": {},
   "outputs": [],
   "source": [
    "import pandas as pd\n",
    "from sklearn.preprocessing import LabelEncoder, OneHotEncoder\n",
    "import numpy as np\n",
    "import math\n",
    "import matplotlib.pyplot as plt\n",
    "import random"
   ]
  },
  {
   "cell_type": "code",
   "execution_count": null,
   "metadata": {},
   "outputs": [],
   "source": [
    "titanic_data = pd.read_csv('titanic.csv')"
   ]
  },
  {
   "cell_type": "code",
   "execution_count": null,
   "metadata": {},
   "outputs": [],
   "source": [
    "titanic_data.drop(['PassengerId', 'Ticket'], axis=1, inplace=True)"
   ]
  },
  {
   "cell_type": "code",
   "execution_count": null,
   "metadata": {},
   "outputs": [],
   "source": [
    "titanic_data.head()"
   ]
  },
  {
   "cell_type": "code",
   "execution_count": null,
   "metadata": {},
   "outputs": [],
   "source": [
    "print('Zero values in train name = ' + str(titanic_data['Name'].isnull().sum()))\n",
    "print('Zero values in train sex = ' + str(titanic_data['Sex'].isnull().sum()))\n",
    "print('Zero values in train cabin = ' + str(titanic_data['Cabin'].isnull().sum()))\n",
    "print('Zero values in train embarked = ' + str(titanic_data['Embarked'].isnull().sum()))"
   ]
  },
  {
   "cell_type": "code",
   "execution_count": null,
   "metadata": {},
   "outputs": [],
   "source": [
    "titanic_data.describe()"
   ]
  },
  {
   "cell_type": "markdown",
   "metadata": {},
   "source": [
    "# Extract title out of name"
   ]
  },
  {
   "cell_type": "code",
   "execution_count": null,
   "metadata": {},
   "outputs": [],
   "source": [
    "for i in range(len(titanic_data)):\n",
    "    if 'Mrs.' in titanic_data['Name'][i]:\n",
    "        titanic_data.loc[i,'Name'] = 'Mrs'\n",
    "    elif 'Sir.' in titanic_data['Name'][i]:\n",
    "        titanic_data.loc[i,'Name'] = 'Royalty'\n",
    "    elif 'Mr.' in titanic_data['Name'][i]:\n",
    "        titanic_data.loc[i,'Name'] = 'Mr'\n",
    "    elif 'Capt.' in titanic_data['Name'][i]:\n",
    "        titanic_data.loc[i,'Name'] = 'Officer'\n",
    "    elif 'Col.' in titanic_data['Name'][i]:\n",
    "        titanic_data.loc[i,'Name'] = 'Officer'\n",
    "    elif 'Countess.' in titanic_data['Name'][i]:\n",
    "        titanic_data.loc[i,'Name'] = 'Royalty'\n",
    "    elif 'Dona.' in titanic_data['Name'][i]:\n",
    "        titanic_data.loc[i,'Name'] = 'Royalty'\n",
    "    elif 'Don.' in titanic_data['Name'][i]:\n",
    "        titanic_data.loc[i,'Name'] = 'Royalty'\n",
    "    elif 'Dr.' in titanic_data['Name'][i]:\n",
    "        titanic_data.loc[i,'Name'] = 'Officer'\n",
    "    elif 'Jonkheer.' in titanic_data['Name'][i]:\n",
    "        titanic_data.loc[i,'Name'] = 'Royalty'\n",
    "    elif 'Lady.' in titanic_data['Name'][i]:\n",
    "        titanic_data.loc[i,'Name'] = 'Royalty'\n",
    "    elif 'Major.' in titanic_data['Name'][i]:\n",
    "        titanic_data.loc[i,'Name'] = 'Officer'\n",
    "    elif 'Master.' in titanic_data['Name'][i]:\n",
    "        titanic_data.loc[i,'Name'] = 'Master'\n",
    "    elif 'Mlle.' in titanic_data['Name'][i]:\n",
    "        titanic_data.loc[i,'Name'] = 'Miss'\n",
    "    elif 'Mme.' in titanic_data['Name'][i]:\n",
    "        titanic_data.loc[i,'Name'] = 'Mrs'\n",
    "    elif 'Ms.' in titanic_data['Name'][i]:\n",
    "        titanic_data.loc[i,'Name'] = 'Mrs'\n",
    "    elif 'Rev.' in titanic_data['Name'][i]:\n",
    "        titanic_data.loc[i,'Name'] = 'Officer'\n",
    "    elif 'Miss.' in titanic_data['Name'][i]:\n",
    "        titanic_data.loc[i,'Name'] = 'Miss'"
   ]
  },
  {
   "cell_type": "markdown",
   "metadata": {},
   "source": [
    "# Fill in the small amount of missing values for fare"
   ]
  },
  {
   "cell_type": "code",
   "execution_count": null,
   "metadata": {},
   "outputs": [],
   "source": [
    "titanic_data['Fare'].fillna(titanic_data['Fare'].mean(), inplace=True)"
   ]
  },
  {
   "cell_type": "markdown",
   "metadata": {},
   "source": [
    "# Filling in missing values for age"
   ]
  },
  {
   "cell_type": "code",
   "execution_count": null,
   "metadata": {},
   "outputs": [],
   "source": [
    "titanic_data.columns"
   ]
  },
  {
   "cell_type": "code",
   "execution_count": null,
   "metadata": {},
   "outputs": [],
   "source": [
    "age_selection = titanic_data[['Age', 'SibSp', 'Parch', 'Fare', 'Pclass', 'Name', 'Sex']].dropna()\n",
    "age_selection['Fare'] = age_selection['Fare'].astype(int)\n",
    "grouped_age = age_selection.groupby(['Name','Pclass','Sex'])['Age'].median()"
   ]
  },
  {
   "cell_type": "code",
   "execution_count": null,
   "metadata": {},
   "outputs": [],
   "source": [
    "for i in range(len(titanic_data)):\n",
    "    if not titanic_data['Age'][i] > 0:\n",
    "        if titanic_data.loc[i,'Name'] == 'Master':\n",
    "            if titanic_data.loc[i,'Pclass'] == 1:\n",
    "                titanic_data.loc[i,'Age'] = 6\n",
    "            elif titanic_data.loc[i,'Pclass'] == 2:\n",
    "                titanic_data.loc[i,'Age'] = 2\n",
    "            elif titanic_data.loc[i,'Pclass'] == 3:\n",
    "                titanic_data.loc[i,'Age'] = 6\n",
    "        elif titanic_data.loc[i,'Name'] == 'Miss':\n",
    "            if titanic_data.loc[i,'Pclass'] == 1:\n",
    "                titanic_data.loc[i,'Age'] = 30\n",
    "            elif titanic_data.loc[i,'Pclass'] == 2:\n",
    "                titanic_data.loc[i,'Age'] = 21\n",
    "            elif titanic_data.loc[i,'Pclass'] == 3:\n",
    "                titanic_data.loc[i,'Age'] = 19\n",
    "        elif titanic_data.loc[i,'Name'] == 'Mr':\n",
    "            if titanic_data.loc[i,'Pclass'] == 1:\n",
    "                titanic_data.loc[i,'Age'] = 40\n",
    "            elif titanic_data.loc[i,'Pclass'] == 2:\n",
    "                titanic_data.loc[i,'Age'] = 31\n",
    "            elif titanic_data.loc[i,'Pclass'] == 3:\n",
    "                titanic_data.loc[i,'Age'] = 29\n",
    "        elif titanic_data.loc[i,'Name'] == 'Mrs':\n",
    "            if titanic_data.loc[i,'Pclass'] == 1:\n",
    "                titanic_data.loc[i,'Age'] = 43\n",
    "            elif titanic_data.loc[i,'Pclass'] == 2:\n",
    "                titanic_data.loc[i,'Age'] = 31\n",
    "            elif titanic_data.loc[i,'Pclass'] == 3:\n",
    "                titanic_data.loc[i,'Age'] = 34\n",
    "        elif titanic_data.loc[i,'Name'] == 'Officer':\n",
    "            if titanic_data.loc[i,'Pclass'] == 1:\n",
    "                if titanic_data.loc[i,'Sex'] == 'female':\n",
    "                    titanic_data.loc[i,'Age'] = 49\n",
    "                elif titanic_data.loc[i,'Sex'] == 'male':\n",
    "                    titanic_data.loc[i,'Age'] = 52\n",
    "            elif titanic_data.loc[i,'Pclass'] == 2:\n",
    "                titanic_data.loc[i,'Age'] = 42\n",
    "        elif titanic_data.loc[i,'Name'] == 'Royalty':\n",
    "            if titanic_data.loc[i,'Pclass'] == 1:\n",
    "                if titanic_data.loc[i,'Sex'] == 'female':\n",
    "                    titanic_data.loc[i,'Age'] = 39\n",
    "                elif titanic_data.loc[i,'Sex'] == 'male':\n",
    "                    titanic_data.loc[i,'Age'] = 40"
   ]
  },
  {
   "cell_type": "markdown",
   "metadata": {},
   "source": [
    "# Extract cabin class out of cabin"
   ]
  },
  {
   "cell_type": "code",
   "execution_count": null,
   "metadata": {},
   "outputs": [],
   "source": [
    "for i in range(len(titanic_data)):\n",
    "    if type(titanic_data['Cabin'][i]) == str:\n",
    "        trimmed = titanic_data['Cabin'][i][:1]\n",
    "        titanic_data.loc[i,'Cabin'] = trimmed"
   ]
  },
  {
   "cell_type": "markdown",
   "metadata": {},
   "source": [
    "# Filling in missing values for cabin"
   ]
  },
  {
   "cell_type": "code",
   "execution_count": null,
   "metadata": {},
   "outputs": [],
   "source": [
    "cabin = titanic_data[['Cabin','SibSp','Parch','Age','Fare','Pclass']].dropna()\n",
    "cabin['Fare'] = cabin['Fare'].astype(int)\n",
    "grouped_cabin = cabin.groupby(['Cabin'])['Pclass'].mean()\n",
    "print(grouped_cabin)"
   ]
  },
  {
   "cell_type": "code",
   "execution_count": null,
   "metadata": {},
   "outputs": [],
   "source": [
    "# Can be improved\n",
    "classone = ['A', 'B', 'C', 'D', 'E', 'T']\n",
    "for i in range(len(titanic_data)):\n",
    "    if not type(titanic_data['Cabin'][i]) == str:\n",
    "        if titanic_data.loc[i,'Pclass'] == 1:\n",
    "            titanic_data.loc[i,'Cabin'] = random.choice(classone)\n",
    "        elif titanic_data.loc[i,'Pclass'] == 2:\n",
    "            titanic_data.loc[i,'Cabin'] = 'F'\n",
    "        elif titanic_data.loc[i,'Pclass'] == 3:\n",
    "            titanic_data.loc[i,'Cabin'] = 'G'"
   ]
  },
  {
   "cell_type": "markdown",
   "metadata": {},
   "source": [
    "# Visualizations"
   ]
  },
  {
   "cell_type": "code",
   "execution_count": null,
   "metadata": {},
   "outputs": [],
   "source": [
    "titanic_data.columns"
   ]
  },
  {
   "cell_type": "code",
   "execution_count": null,
   "metadata": {},
   "outputs": [],
   "source": [
    "import seaborn as sns\n",
    "\n",
    "sns.barplot(y=titanic_data['Survived'], x=titanic_data['Pclass'])"
   ]
  },
  {
   "cell_type": "code",
   "execution_count": null,
   "metadata": {},
   "outputs": [],
   "source": [
    "sns.barplot(y=titanic_data['Survived'], x=titanic_data['Name'])"
   ]
  },
  {
   "cell_type": "code",
   "execution_count": null,
   "metadata": {},
   "outputs": [],
   "source": [
    "sns.barplot(y=titanic_data['Survived'], x=titanic_data['Sex'])"
   ]
  },
  {
   "cell_type": "code",
   "execution_count": null,
   "metadata": {},
   "outputs": [],
   "source": [
    "sns.barplot(x=titanic_data['Survived'], y=titanic_data['Age'])"
   ]
  },
  {
   "cell_type": "code",
   "execution_count": null,
   "metadata": {},
   "outputs": [],
   "source": [
    "sns.barplot(x=titanic_data['Survived'], y=titanic_data['Fare'])"
   ]
  },
  {
   "cell_type": "code",
   "execution_count": null,
   "metadata": {},
   "outputs": [],
   "source": [
    "sns.barplot(x=titanic_data['Survived'], y=titanic_data['Cabin'])"
   ]
  },
  {
   "cell_type": "code",
   "execution_count": null,
   "metadata": {},
   "outputs": [],
   "source": [
    "sns.barplot(x=titanic_data['Survived'], y=titanic_data['Embarked'])"
   ]
  },
  {
   "cell_type": "code",
   "execution_count": null,
   "metadata": {},
   "outputs": [],
   "source": [
    "sns.barplot(y=titanic_data['Survived'], x=titanic_data['SibSp'])"
   ]
  },
  {
   "cell_type": "code",
   "execution_count": null,
   "metadata": {},
   "outputs": [],
   "source": [
    "sns.barplot(y=titanic_data['Survived'], x=titanic_data['Parch'])"
   ]
  },
  {
   "cell_type": "markdown",
   "metadata": {},
   "source": [
    "# SibSp + Parch into familysize"
   ]
  },
  {
   "cell_type": "code",
   "execution_count": null,
   "metadata": {},
   "outputs": [],
   "source": [
    "titanic_data['FamilySize'] = titanic_data['SibSp'] + titanic_data['Parch'] + 1\n",
    "titanic_data.drop(['SibSp'], axis=1, inplace=True)\n",
    "titanic_data.drop(['Parch'], axis=1, inplace=True)"
   ]
  },
  {
   "cell_type": "code",
   "execution_count": null,
   "metadata": {},
   "outputs": [],
   "source": [
    "sns.barplot(y=titanic_data['Survived'], x=titanic_data['FamilySize'])"
   ]
  },
  {
   "cell_type": "markdown",
   "metadata": {},
   "source": [
    "# Combine FamilySize 8 + 11 because both have 0 change of surviving"
   ]
  },
  {
   "cell_type": "code",
   "execution_count": null,
   "metadata": {},
   "outputs": [],
   "source": [
    "for i in range(len(titanic_data)):\n",
    "    if titanic_data.loc[i,'FamilySize'] == 11:\n",
    "        titanic_data.loc[i,'FamilySize'] = 8"
   ]
  },
  {
   "cell_type": "code",
   "execution_count": null,
   "metadata": {},
   "outputs": [],
   "source": []
  }
 ],
 "metadata": {
  "kernelspec": {
   "display_name": "python-tutorial",
   "language": "python",
   "name": "python-tutorial"
  },
  "language_info": {
   "codemirror_mode": {
    "name": "ipython",
    "version": 3
   },
   "file_extension": ".py",
   "mimetype": "text/x-python",
   "name": "python",
   "nbconvert_exporter": "python",
   "pygments_lexer": "ipython3",
   "version": "3.6.8"
  }
 },
 "nbformat": 4,
 "nbformat_minor": 2
}
